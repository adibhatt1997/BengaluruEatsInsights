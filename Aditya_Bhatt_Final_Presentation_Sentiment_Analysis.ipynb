{
 "cells": [
  {
   "cell_type": "code",
   "execution_count": 2,
   "id": "fe9039e4",
   "metadata": {},
   "outputs": [
    {
     "name": "stdout",
     "output_type": "stream",
     "text": [
      "Requirement already satisfied: keras in ./anaconda3/lib/python3.11/site-packages (3.2.1)\n",
      "Requirement already satisfied: absl-py in ./anaconda3/lib/python3.11/site-packages (from keras) (2.1.0)\n",
      "Requirement already satisfied: numpy in ./anaconda3/lib/python3.11/site-packages (from keras) (1.24.3)\n",
      "Requirement already satisfied: rich in ./anaconda3/lib/python3.11/site-packages (from keras) (13.7.1)\n",
      "Requirement already satisfied: namex in ./anaconda3/lib/python3.11/site-packages (from keras) (0.0.8)\n",
      "Requirement already satisfied: h5py in ./anaconda3/lib/python3.11/site-packages (from keras) (3.11.0)\n",
      "Requirement already satisfied: optree in ./anaconda3/lib/python3.11/site-packages (from keras) (0.11.0)\n",
      "Requirement already satisfied: ml-dtypes in ./anaconda3/lib/python3.11/site-packages (from keras) (0.3.2)\n",
      "Requirement already satisfied: typing-extensions>=4.0.0 in ./anaconda3/lib/python3.11/site-packages (from optree->keras) (4.7.1)\n",
      "Requirement already satisfied: markdown-it-py>=2.2.0 in ./anaconda3/lib/python3.11/site-packages (from rich->keras) (2.2.0)\n",
      "Requirement already satisfied: pygments<3.0.0,>=2.13.0 in ./anaconda3/lib/python3.11/site-packages (from rich->keras) (2.15.1)\n",
      "Requirement already satisfied: mdurl~=0.1 in ./anaconda3/lib/python3.11/site-packages (from markdown-it-py>=2.2.0->rich->keras) (0.1.0)\n",
      "Note: you may need to restart the kernel to use updated packages.\n"
     ]
    }
   ],
   "source": [
    "pip install keras"
   ]
  },
  {
   "cell_type": "code",
   "execution_count": 3,
   "id": "78f6d012",
   "metadata": {},
   "outputs": [
    {
     "name": "stdout",
     "output_type": "stream",
     "text": [
      "Requirement already satisfied: tensorflow in ./anaconda3/lib/python3.11/site-packages (2.16.1)\n",
      "Requirement already satisfied: absl-py>=1.0.0 in ./anaconda3/lib/python3.11/site-packages (from tensorflow) (2.1.0)\n",
      "Requirement already satisfied: astunparse>=1.6.0 in ./anaconda3/lib/python3.11/site-packages (from tensorflow) (1.6.3)\n",
      "Requirement already satisfied: flatbuffers>=23.5.26 in ./anaconda3/lib/python3.11/site-packages (from tensorflow) (24.3.25)\n",
      "Requirement already satisfied: gast!=0.5.0,!=0.5.1,!=0.5.2,>=0.2.1 in ./anaconda3/lib/python3.11/site-packages (from tensorflow) (0.5.4)\n",
      "Requirement already satisfied: google-pasta>=0.1.1 in ./anaconda3/lib/python3.11/site-packages (from tensorflow) (0.2.0)\n",
      "Requirement already satisfied: h5py>=3.10.0 in ./anaconda3/lib/python3.11/site-packages (from tensorflow) (3.11.0)\n",
      "Requirement already satisfied: libclang>=13.0.0 in ./anaconda3/lib/python3.11/site-packages (from tensorflow) (18.1.1)\n",
      "Requirement already satisfied: ml-dtypes~=0.3.1 in ./anaconda3/lib/python3.11/site-packages (from tensorflow) (0.3.2)\n",
      "Requirement already satisfied: opt-einsum>=2.3.2 in ./anaconda3/lib/python3.11/site-packages (from tensorflow) (3.3.0)\n",
      "Requirement already satisfied: packaging in ./anaconda3/lib/python3.11/site-packages (from tensorflow) (23.0)\n",
      "Requirement already satisfied: protobuf!=4.21.0,!=4.21.1,!=4.21.2,!=4.21.3,!=4.21.4,!=4.21.5,<5.0.0dev,>=3.20.3 in ./anaconda3/lib/python3.11/site-packages (from tensorflow) (4.21.12)\n",
      "Requirement already satisfied: requests<3,>=2.21.0 in ./anaconda3/lib/python3.11/site-packages (from tensorflow) (2.23.0)\n",
      "Requirement already satisfied: setuptools in ./anaconda3/lib/python3.11/site-packages (from tensorflow) (68.0.0)\n",
      "Requirement already satisfied: six>=1.12.0 in ./anaconda3/lib/python3.11/site-packages (from tensorflow) (1.16.0)\n",
      "Requirement already satisfied: termcolor>=1.1.0 in ./anaconda3/lib/python3.11/site-packages (from tensorflow) (2.4.0)\n",
      "Requirement already satisfied: typing-extensions>=3.6.6 in ./anaconda3/lib/python3.11/site-packages (from tensorflow) (4.7.1)\n",
      "Requirement already satisfied: wrapt>=1.11.0 in ./anaconda3/lib/python3.11/site-packages (from tensorflow) (1.14.1)\n",
      "Requirement already satisfied: grpcio<2.0,>=1.24.3 in ./anaconda3/lib/python3.11/site-packages (from tensorflow) (1.62.2)\n",
      "Requirement already satisfied: tensorboard<2.17,>=2.16 in ./anaconda3/lib/python3.11/site-packages (from tensorflow) (2.16.2)\n",
      "Requirement already satisfied: keras>=3.0.0 in ./anaconda3/lib/python3.11/site-packages (from tensorflow) (3.2.1)\n",
      "Requirement already satisfied: tensorflow-io-gcs-filesystem>=0.23.1 in ./anaconda3/lib/python3.11/site-packages (from tensorflow) (0.36.0)\n",
      "Requirement already satisfied: numpy<2.0.0,>=1.23.5 in ./anaconda3/lib/python3.11/site-packages (from tensorflow) (1.24.3)\n",
      "Requirement already satisfied: wheel<1.0,>=0.23.0 in ./anaconda3/lib/python3.11/site-packages (from astunparse>=1.6.0->tensorflow) (0.38.4)\n",
      "Requirement already satisfied: rich in ./anaconda3/lib/python3.11/site-packages (from keras>=3.0.0->tensorflow) (13.7.1)\n",
      "Requirement already satisfied: namex in ./anaconda3/lib/python3.11/site-packages (from keras>=3.0.0->tensorflow) (0.0.8)\n",
      "Requirement already satisfied: optree in ./anaconda3/lib/python3.11/site-packages (from keras>=3.0.0->tensorflow) (0.11.0)\n",
      "Requirement already satisfied: chardet<4,>=3.0.2 in ./anaconda3/lib/python3.11/site-packages (from requests<3,>=2.21.0->tensorflow) (3.0.4)\n",
      "Requirement already satisfied: idna<3,>=2.5 in ./anaconda3/lib/python3.11/site-packages (from requests<3,>=2.21.0->tensorflow) (2.10)\n",
      "Requirement already satisfied: urllib3!=1.25.0,!=1.25.1,<1.26,>=1.21.1 in ./anaconda3/lib/python3.11/site-packages (from requests<3,>=2.21.0->tensorflow) (1.25.11)\n",
      "Requirement already satisfied: certifi>=2017.4.17 in ./anaconda3/lib/python3.11/site-packages (from requests<3,>=2.21.0->tensorflow) (2023.7.22)\n",
      "Requirement already satisfied: markdown>=2.6.8 in ./anaconda3/lib/python3.11/site-packages (from tensorboard<2.17,>=2.16->tensorflow) (3.4.1)\n",
      "Requirement already satisfied: tensorboard-data-server<0.8.0,>=0.7.0 in ./anaconda3/lib/python3.11/site-packages (from tensorboard<2.17,>=2.16->tensorflow) (0.7.2)\n",
      "Requirement already satisfied: werkzeug>=1.0.1 in ./anaconda3/lib/python3.11/site-packages (from tensorboard<2.17,>=2.16->tensorflow) (2.2.3)\n",
      "Requirement already satisfied: MarkupSafe>=2.1.1 in ./anaconda3/lib/python3.11/site-packages (from werkzeug>=1.0.1->tensorboard<2.17,>=2.16->tensorflow) (2.1.1)\n",
      "Requirement already satisfied: markdown-it-py>=2.2.0 in ./anaconda3/lib/python3.11/site-packages (from rich->keras>=3.0.0->tensorflow) (2.2.0)\n",
      "Requirement already satisfied: pygments<3.0.0,>=2.13.0 in ./anaconda3/lib/python3.11/site-packages (from rich->keras>=3.0.0->tensorflow) (2.15.1)\n",
      "Requirement already satisfied: mdurl~=0.1 in ./anaconda3/lib/python3.11/site-packages (from markdown-it-py>=2.2.0->rich->keras>=3.0.0->tensorflow) (0.1.0)\n",
      "Note: you may need to restart the kernel to use updated packages.\n"
     ]
    }
   ],
   "source": [
    "pip install tensorflow"
   ]
  },
  {
   "cell_type": "code",
   "execution_count": 4,
   "id": "029ce837",
   "metadata": {},
   "outputs": [],
   "source": [
    "import json\n",
    "import re\n",
    "\n",
    "import numpy as np \n",
    "import pandas as pd\n",
    "from tensorflow.keras.models import Model\n",
    "from tensorflow.keras.layers import Input, Dense, Embedding, SpatialDropout1D, add, concatenate\n",
    "from tensorflow.keras.layers import LSTM, Bidirectional, GlobalMaxPooling1D, GlobalAveragePooling1D\n",
    "from tensorflow.keras.callbacks import Callback, ModelCheckpoint\n",
    "from tensorflow.keras.preprocessing import text, sequence\n",
    "from tensorflow.keras.utils import to_categorical\n",
    "from sklearn.model_selection import train_test_split\n",
    "from sklearn.metrics import classification_report\n",
    "from tqdm import tqdm\n",
    "import warnings\n",
    "warnings.filterwarnings('ignore')"
   ]
  },
  {
   "cell_type": "code",
   "execution_count": 5,
   "id": "fa61446a",
   "metadata": {},
   "outputs": [],
   "source": [
    "tqdm.pandas()"
   ]
  },
  {
   "cell_type": "code",
   "execution_count": 6,
   "id": "5d7f3d41",
   "metadata": {},
   "outputs": [
    {
     "name": "stdout",
     "output_type": "stream",
     "text": [
      "(51717, 17)\n"
     ]
    },
    {
     "data": {
      "text/html": [
       "<div>\n",
       "<style scoped>\n",
       "    .dataframe tbody tr th:only-of-type {\n",
       "        vertical-align: middle;\n",
       "    }\n",
       "\n",
       "    .dataframe tbody tr th {\n",
       "        vertical-align: top;\n",
       "    }\n",
       "\n",
       "    .dataframe thead th {\n",
       "        text-align: right;\n",
       "    }\n",
       "</style>\n",
       "<table border=\"1\" class=\"dataframe\">\n",
       "  <thead>\n",
       "    <tr style=\"text-align: right;\">\n",
       "      <th></th>\n",
       "      <th>url</th>\n",
       "      <th>address</th>\n",
       "      <th>name</th>\n",
       "      <th>online_order</th>\n",
       "      <th>book_table</th>\n",
       "      <th>rate</th>\n",
       "      <th>votes</th>\n",
       "      <th>phone</th>\n",
       "      <th>location</th>\n",
       "      <th>rest_type</th>\n",
       "      <th>dish_liked</th>\n",
       "      <th>cuisines</th>\n",
       "      <th>approx_cost(for two people)</th>\n",
       "      <th>reviews_list</th>\n",
       "      <th>menu_item</th>\n",
       "      <th>listed_in(type)</th>\n",
       "      <th>listed_in(city)</th>\n",
       "    </tr>\n",
       "  </thead>\n",
       "  <tbody>\n",
       "    <tr>\n",
       "      <th>0</th>\n",
       "      <td>https://www.zomato.com/bangalore/jalsa-banasha...</td>\n",
       "      <td>942, 21st Main Road, 2nd Stage, Banashankari, ...</td>\n",
       "      <td>Jalsa</td>\n",
       "      <td>Yes</td>\n",
       "      <td>Yes</td>\n",
       "      <td>4.1/5</td>\n",
       "      <td>775</td>\n",
       "      <td>080 42297555\\r\\n+91 9743772233</td>\n",
       "      <td>Banashankari</td>\n",
       "      <td>Casual Dining</td>\n",
       "      <td>Pasta, Lunch Buffet, Masala Papad, Paneer Laja...</td>\n",
       "      <td>North Indian, Mughlai, Chinese</td>\n",
       "      <td>800</td>\n",
       "      <td>[('Rated 4.0', 'RATED\\n  A beautiful place to ...</td>\n",
       "      <td>[]</td>\n",
       "      <td>Buffet</td>\n",
       "      <td>Banashankari</td>\n",
       "    </tr>\n",
       "    <tr>\n",
       "      <th>1</th>\n",
       "      <td>https://www.zomato.com/bangalore/spice-elephan...</td>\n",
       "      <td>2nd Floor, 80 Feet Road, Near Big Bazaar, 6th ...</td>\n",
       "      <td>Spice Elephant</td>\n",
       "      <td>Yes</td>\n",
       "      <td>No</td>\n",
       "      <td>4.1/5</td>\n",
       "      <td>787</td>\n",
       "      <td>080 41714161</td>\n",
       "      <td>Banashankari</td>\n",
       "      <td>Casual Dining</td>\n",
       "      <td>Momos, Lunch Buffet, Chocolate Nirvana, Thai G...</td>\n",
       "      <td>Chinese, North Indian, Thai</td>\n",
       "      <td>800</td>\n",
       "      <td>[('Rated 4.0', 'RATED\\n  Had been here for din...</td>\n",
       "      <td>[]</td>\n",
       "      <td>Buffet</td>\n",
       "      <td>Banashankari</td>\n",
       "    </tr>\n",
       "    <tr>\n",
       "      <th>2</th>\n",
       "      <td>https://www.zomato.com/SanchurroBangalore?cont...</td>\n",
       "      <td>1112, Next to KIMS Medical College, 17th Cross...</td>\n",
       "      <td>San Churro Cafe</td>\n",
       "      <td>Yes</td>\n",
       "      <td>No</td>\n",
       "      <td>3.8/5</td>\n",
       "      <td>918</td>\n",
       "      <td>+91 9663487993</td>\n",
       "      <td>Banashankari</td>\n",
       "      <td>Cafe, Casual Dining</td>\n",
       "      <td>Churros, Cannelloni, Minestrone Soup, Hot Choc...</td>\n",
       "      <td>Cafe, Mexican, Italian</td>\n",
       "      <td>800</td>\n",
       "      <td>[('Rated 3.0', \"RATED\\n  Ambience is not that ...</td>\n",
       "      <td>[]</td>\n",
       "      <td>Buffet</td>\n",
       "      <td>Banashankari</td>\n",
       "    </tr>\n",
       "    <tr>\n",
       "      <th>3</th>\n",
       "      <td>https://www.zomato.com/bangalore/addhuri-udupi...</td>\n",
       "      <td>1st Floor, Annakuteera, 3rd Stage, Banashankar...</td>\n",
       "      <td>Addhuri Udupi Bhojana</td>\n",
       "      <td>No</td>\n",
       "      <td>No</td>\n",
       "      <td>3.7/5</td>\n",
       "      <td>88</td>\n",
       "      <td>+91 9620009302</td>\n",
       "      <td>Banashankari</td>\n",
       "      <td>Quick Bites</td>\n",
       "      <td>Masala Dosa</td>\n",
       "      <td>South Indian, North Indian</td>\n",
       "      <td>300</td>\n",
       "      <td>[('Rated 4.0', \"RATED\\n  Great food and proper...</td>\n",
       "      <td>[]</td>\n",
       "      <td>Buffet</td>\n",
       "      <td>Banashankari</td>\n",
       "    </tr>\n",
       "    <tr>\n",
       "      <th>4</th>\n",
       "      <td>https://www.zomato.com/bangalore/grand-village...</td>\n",
       "      <td>10, 3rd Floor, Lakshmi Associates, Gandhi Baza...</td>\n",
       "      <td>Grand Village</td>\n",
       "      <td>No</td>\n",
       "      <td>No</td>\n",
       "      <td>3.8/5</td>\n",
       "      <td>166</td>\n",
       "      <td>+91 8026612447\\r\\n+91 9901210005</td>\n",
       "      <td>Basavanagudi</td>\n",
       "      <td>Casual Dining</td>\n",
       "      <td>Panipuri, Gol Gappe</td>\n",
       "      <td>North Indian, Rajasthani</td>\n",
       "      <td>600</td>\n",
       "      <td>[('Rated 4.0', 'RATED\\n  Very good restaurant ...</td>\n",
       "      <td>[]</td>\n",
       "      <td>Buffet</td>\n",
       "      <td>Banashankari</td>\n",
       "    </tr>\n",
       "  </tbody>\n",
       "</table>\n",
       "</div>"
      ],
      "text/plain": [
       "                                                 url  \\\n",
       "0  https://www.zomato.com/bangalore/jalsa-banasha...   \n",
       "1  https://www.zomato.com/bangalore/spice-elephan...   \n",
       "2  https://www.zomato.com/SanchurroBangalore?cont...   \n",
       "3  https://www.zomato.com/bangalore/addhuri-udupi...   \n",
       "4  https://www.zomato.com/bangalore/grand-village...   \n",
       "\n",
       "                                             address                   name  \\\n",
       "0  942, 21st Main Road, 2nd Stage, Banashankari, ...                  Jalsa   \n",
       "1  2nd Floor, 80 Feet Road, Near Big Bazaar, 6th ...         Spice Elephant   \n",
       "2  1112, Next to KIMS Medical College, 17th Cross...        San Churro Cafe   \n",
       "3  1st Floor, Annakuteera, 3rd Stage, Banashankar...  Addhuri Udupi Bhojana   \n",
       "4  10, 3rd Floor, Lakshmi Associates, Gandhi Baza...          Grand Village   \n",
       "\n",
       "  online_order book_table   rate  votes                             phone  \\\n",
       "0          Yes        Yes  4.1/5    775    080 42297555\\r\\n+91 9743772233   \n",
       "1          Yes         No  4.1/5    787                      080 41714161   \n",
       "2          Yes         No  3.8/5    918                    +91 9663487993   \n",
       "3           No         No  3.7/5     88                    +91 9620009302   \n",
       "4           No         No  3.8/5    166  +91 8026612447\\r\\n+91 9901210005   \n",
       "\n",
       "       location            rest_type  \\\n",
       "0  Banashankari        Casual Dining   \n",
       "1  Banashankari        Casual Dining   \n",
       "2  Banashankari  Cafe, Casual Dining   \n",
       "3  Banashankari          Quick Bites   \n",
       "4  Basavanagudi        Casual Dining   \n",
       "\n",
       "                                          dish_liked  \\\n",
       "0  Pasta, Lunch Buffet, Masala Papad, Paneer Laja...   \n",
       "1  Momos, Lunch Buffet, Chocolate Nirvana, Thai G...   \n",
       "2  Churros, Cannelloni, Minestrone Soup, Hot Choc...   \n",
       "3                                        Masala Dosa   \n",
       "4                                Panipuri, Gol Gappe   \n",
       "\n",
       "                         cuisines approx_cost(for two people)  \\\n",
       "0  North Indian, Mughlai, Chinese                         800   \n",
       "1     Chinese, North Indian, Thai                         800   \n",
       "2          Cafe, Mexican, Italian                         800   \n",
       "3      South Indian, North Indian                         300   \n",
       "4        North Indian, Rajasthani                         600   \n",
       "\n",
       "                                        reviews_list menu_item  \\\n",
       "0  [('Rated 4.0', 'RATED\\n  A beautiful place to ...        []   \n",
       "1  [('Rated 4.0', 'RATED\\n  Had been here for din...        []   \n",
       "2  [('Rated 3.0', \"RATED\\n  Ambience is not that ...        []   \n",
       "3  [('Rated 4.0', \"RATED\\n  Great food and proper...        []   \n",
       "4  [('Rated 4.0', 'RATED\\n  Very good restaurant ...        []   \n",
       "\n",
       "  listed_in(type) listed_in(city)  \n",
       "0          Buffet    Banashankari  \n",
       "1          Buffet    Banashankari  \n",
       "2          Buffet    Banashankari  \n",
       "3          Buffet    Banashankari  \n",
       "4          Buffet    Banashankari  "
      ]
     },
     "execution_count": 6,
     "metadata": {},
     "output_type": "execute_result"
    }
   ],
   "source": [
    "zomato_orgnl = pd.read_csv('zomato.csv')\n",
    "\n",
    "print(zomato_orgnl.shape)\n",
    "zomato_orgnl.head()"
   ]
  },
  {
   "cell_type": "code",
   "execution_count": 7,
   "id": "137ec77e",
   "metadata": {},
   "outputs": [],
   "source": [
    "#Deleting Unnnecessary Columns\n",
    "zomato=zomato_orgnl.drop(['url','dish_liked','phone'],axis=1) "
   ]
  },
  {
   "cell_type": "code",
   "execution_count": 8,
   "id": "7316f142",
   "metadata": {},
   "outputs": [],
   "source": [
    "#Removing the Duplicates\n",
    "zomato.duplicated().sum()\n",
    "zomato.drop_duplicates(inplace=True)"
   ]
  },
  {
   "cell_type": "code",
   "execution_count": 9,
   "id": "c39d46e2",
   "metadata": {},
   "outputs": [
    {
     "name": "stdout",
     "output_type": "stream",
     "text": [
      "<class 'pandas.core.frame.DataFrame'>\n",
      "Int64Index: 43499 entries, 0 to 51716\n",
      "Data columns (total 14 columns):\n",
      " #   Column                       Non-Null Count  Dtype \n",
      "---  ------                       --------------  ----- \n",
      " 0   address                      43499 non-null  object\n",
      " 1   name                         43499 non-null  object\n",
      " 2   online_order                 43499 non-null  object\n",
      " 3   book_table                   43499 non-null  object\n",
      " 4   rate                         43499 non-null  object\n",
      " 5   votes                        43499 non-null  int64 \n",
      " 6   location                     43499 non-null  object\n",
      " 7   rest_type                    43499 non-null  object\n",
      " 8   cuisines                     43499 non-null  object\n",
      " 9   approx_cost(for two people)  43499 non-null  object\n",
      " 10  reviews_list                 43499 non-null  object\n",
      " 11  menu_item                    43499 non-null  object\n",
      " 12  listed_in(type)              43499 non-null  object\n",
      " 13  listed_in(city)              43499 non-null  object\n",
      "dtypes: int64(1), object(13)\n",
      "memory usage: 5.0+ MB\n"
     ]
    }
   ],
   "source": [
    "#Remove the NaN values from the dataset\n",
    "zomato.isnull().sum()\n",
    "zomato.dropna(how='any',inplace=True)\n",
    "zomato.info()"
   ]
  },
  {
   "cell_type": "code",
   "execution_count": 10,
   "id": "586e5670",
   "metadata": {},
   "outputs": [
    {
     "data": {
      "text/plain": [
       "Index(['address', 'name', 'online_order', 'book_table', 'rate', 'votes',\n",
       "       'location', 'rest_type', 'cuisines', 'cost', 'reviews_list',\n",
       "       'menu_item', 'type', 'city'],\n",
       "      dtype='object')"
      ]
     },
     "execution_count": 10,
     "metadata": {},
     "output_type": "execute_result"
    }
   ],
   "source": [
    "#Changing the Columns Names\n",
    "zomato.columns\n",
    "zomato = zomato.rename(columns={'approx_cost(for two people)':'cost','listed_in(type)':'type',\n",
    "                                  'listed_in(city)':'city'})\n",
    "zomato.columns"
   ]
  },
  {
   "cell_type": "code",
   "execution_count": 11,
   "id": "ff7cb98e",
   "metadata": {},
   "outputs": [
    {
     "name": "stdout",
     "output_type": "stream",
     "text": [
      "<class 'pandas.core.frame.DataFrame'>\n",
      "Int64Index: 43499 entries, 0 to 51716\n",
      "Data columns (total 14 columns):\n",
      " #   Column        Non-Null Count  Dtype  \n",
      "---  ------        --------------  -----  \n",
      " 0   address       43499 non-null  object \n",
      " 1   name          43499 non-null  object \n",
      " 2   online_order  43499 non-null  object \n",
      " 3   book_table    43499 non-null  object \n",
      " 4   rate          43499 non-null  object \n",
      " 5   votes         43499 non-null  int64  \n",
      " 6   location      43499 non-null  object \n",
      " 7   rest_type     43499 non-null  object \n",
      " 8   cuisines      43499 non-null  object \n",
      " 9   cost          43499 non-null  float64\n",
      " 10  reviews_list  43499 non-null  object \n",
      " 11  menu_item     43499 non-null  object \n",
      " 12  type          43499 non-null  object \n",
      " 13  city          43499 non-null  object \n",
      "dtypes: float64(1), int64(1), object(12)\n",
      "memory usage: 5.0+ MB\n"
     ]
    }
   ],
   "source": [
    "#Some Transformations\n",
    "zomato['cost'] = zomato['cost'].astype(str)\n",
    "zomato['cost'] = zomato['cost'].apply(lambda x: x.replace(',','.'))\n",
    "zomato['cost'] = zomato['cost'].astype(float)\n",
    "zomato.info()"
   ]
  },
  {
   "cell_type": "code",
   "execution_count": 12,
   "id": "09d0b581",
   "metadata": {},
   "outputs": [
    {
     "data": {
      "text/plain": [
       "0    4.1\n",
       "1    4.1\n",
       "2    3.8\n",
       "3    3.7\n",
       "4    3.8\n",
       "Name: rate, dtype: float64"
      ]
     },
     "execution_count": 12,
     "metadata": {},
     "output_type": "execute_result"
    }
   ],
   "source": [
    "# Removing '/5' from Rates\n",
    "zomato = zomato.loc[zomato.rate != 'NEW']\n",
    "zomato = zomato.loc[zomato.rate != '-'].reset_index(drop=True)\n",
    "remove_slash = lambda x: x.replace('/5', '') if type(x) == str else x  # Corrected np.str to str\n",
    "zomato.rate = zomato.rate.apply(remove_slash).str.strip().astype('float')\n",
    "zomato['rate'].head()"
   ]
  },
  {
   "cell_type": "code",
   "execution_count": 13,
   "id": "e49cb7e5",
   "metadata": {},
   "outputs": [],
   "source": [
    "df = zomato.copy()"
   ]
  },
  {
   "cell_type": "code",
   "execution_count": 14,
   "id": "c17f8be6",
   "metadata": {},
   "outputs": [
    {
     "name": "stderr",
     "output_type": "stream",
     "text": [
      "100%|███████████████████████████████████| 41237/41237 [00:07<00:00, 5422.96it/s]\n"
     ]
    }
   ],
   "source": [
    "all_ratings = []\n",
    "\n",
    "for ratings in tqdm(df['reviews_list']):\n",
    "    ratings = eval(ratings)\n",
    "    \n",
    "    for score, doc in ratings:\n",
    "        if score:\n",
    "            score = score.strip(\"Rated\").strip()\n",
    "            doc = doc.strip('RATED').strip()\n",
    "            \n",
    "            score = float(score)\n",
    "            all_ratings.append([score, doc])"
   ]
  },
  {
   "cell_type": "code",
   "execution_count": 15,
   "id": "c47a1f8f",
   "metadata": {},
   "outputs": [
    {
     "name": "stdout",
     "output_type": "stream",
     "text": [
      "(1295849, 2)\n"
     ]
    },
    {
     "data": {
      "text/html": [
       "<div>\n",
       "<style scoped>\n",
       "    .dataframe tbody tr th:only-of-type {\n",
       "        vertical-align: middle;\n",
       "    }\n",
       "\n",
       "    .dataframe tbody tr th {\n",
       "        vertical-align: top;\n",
       "    }\n",
       "\n",
       "    .dataframe thead th {\n",
       "        text-align: right;\n",
       "    }\n",
       "</style>\n",
       "<table border=\"1\" class=\"dataframe\">\n",
       "  <thead>\n",
       "    <tr style=\"text-align: right;\">\n",
       "      <th></th>\n",
       "      <th>score</th>\n",
       "      <th>doc</th>\n",
       "    </tr>\n",
       "  </thead>\n",
       "  <tbody>\n",
       "    <tr>\n",
       "      <th>0</th>\n",
       "      <td>4.0</td>\n",
       "      <td>A beautiful place to dine in.The interiors tak...</td>\n",
       "    </tr>\n",
       "    <tr>\n",
       "      <th>1</th>\n",
       "      <td>4.0</td>\n",
       "      <td>I was here for dinner with my family on a week...</td>\n",
       "    </tr>\n",
       "    <tr>\n",
       "      <th>2</th>\n",
       "      <td>2.0</td>\n",
       "      <td>Its a restaurant near to Banashankari BDA. Me ...</td>\n",
       "    </tr>\n",
       "    <tr>\n",
       "      <th>3</th>\n",
       "      <td>4.0</td>\n",
       "      <td>We went here on a weekend and one of us had th...</td>\n",
       "    </tr>\n",
       "    <tr>\n",
       "      <th>4</th>\n",
       "      <td>5.0</td>\n",
       "      <td>The best thing about the place is itÃÃÃÃ...</td>\n",
       "    </tr>\n",
       "  </tbody>\n",
       "</table>\n",
       "</div>"
      ],
      "text/plain": [
       "   score                                                doc\n",
       "0    4.0  A beautiful place to dine in.The interiors tak...\n",
       "1    4.0  I was here for dinner with my family on a week...\n",
       "2    2.0  Its a restaurant near to Banashankari BDA. Me ...\n",
       "3    4.0  We went here on a weekend and one of us had th...\n",
       "4    5.0  The best thing about the place is itÃÃÃÃ..."
      ]
     },
     "execution_count": 15,
     "metadata": {},
     "output_type": "execute_result"
    }
   ],
   "source": [
    "ratings_df = pd.DataFrame(all_ratings, columns=['score', 'doc'])\n",
    "\n",
    "print(ratings_df.shape)\n",
    "ratings_df.head()"
   ]
  },
  {
   "cell_type": "markdown",
   "id": "edc08eed",
   "metadata": {},
   "source": [
    "Remove ratings inside text\n",
    "Some of the reviews have ratings within it. We want to train a generic model to predict ratings with only text, so we want to hide this extra information so the model does not overfit on that.\n",
    "\"Unhide\" the output of the next cell to view sample of the ratings that contain the character \"/\"."
   ]
  },
  {
   "cell_type": "code",
   "execution_count": 16,
   "id": "419efc11",
   "metadata": {},
   "outputs": [
    {
     "name": "stdout",
     "output_type": "stream",
     "text": [
      "Great food and pleasant ambience. Expensive but Coll place to chill and relax......\n",
      "\n",
      "Service is really very very good and friendly staff...\n",
      "\n",
      "Food : 5/5\n",
      "Service : 5/5\n",
      "Ambience :5/5\n",
      "Overall :5/5\n",
      "I was looking for a quite place to spend some time with family and as well wanted to try some new place. Since I was at Banashankari I thought of trying this place. The place had good rating and was part of Zomato gold. So I decided to try this place. It was a delite to see a very friendly staff and food we ordered was very tasty as well.\n",
      "\n",
      "Food : 4/5\n",
      "Ambience :3/5\n",
      "Friendly staff : 4/5\n",
      "Pocket friendly : 4/5\n",
      "\n",
      "Will definitely visit again ??\n",
      "Food: 8/10\n",
      "Ambience:8/10\n",
      "Staff:8/10\n",
      "One of the good places to try north Indian food...but depends on ur taste buds. Not everyone will like all the items here. Specially when u r particular abt sweet and spicy food.\n",
      "There's buffet available too.\n",
      "We had ordered paneer uttar dakshin and paneer kurchan..was amazing. The Gobi hara pyaz and mix veg were average.\n",
      "One of my favourite places that I often visit in South bangalore , but quality has been reduced than before. Little unhappy with the food this time.\n",
      "But their churros never dissapointed me. Staff are too slow and do not respond easily.\n",
      "\n",
      "Soups:\n",
      "Minestrone soup was like vegetable stock water with vegetables in it, not happy with it.\n",
      "\n",
      "Churros :\n",
      "It was great as usual. A must visit place if u love churros.\n",
      "\n",
      "Starters:\n",
      "1. Africano panner -\n",
      "It was bit sweet and not happy with the dish!!\n",
      "2. Loaded nachos -\n",
      "This happened to be their one of the best dishes, but now I take back my words. Very dissapointed with the dish.\n",
      "\n",
      "Main course:\n",
      "sicilia pizza\n",
      "Pizza was too good, it's a must try dish.\n",
      "\n",
      "Finally I would recommend this place for churros and pizza .\n",
      "\n",
      "Taste : 6/10\n",
      "Ambience :7/10\n",
      "Value for money : 8/10\n",
      "\n",
      "Overall experience : 7.5/10\n",
      "Been here a couple of times. Highly satisfying on both the ocassions. Great food. Decent service. At price of 160 per person it is of a great value. The staff here serves in a traditional Mysore style dresses. The food is authentic Karnataka meals. I really liked the pineapple pickle/chutney. They serve some 4 varities of rice of which you shouldn't try all as you would already be full. Roti, Dosa were decent. In the deserts, Payasam& Holige were good.\n",
      "I think it is one the must try places to try some authentic south food even if you have been to the likes of Kamath etc. this one is a little different. :)\n",
      "I went to this restaurant on Sunday afternoon.It was a bit crowded.\n",
      "\n",
      "Its located in the 1st floor Above anna kuteera kathriguppe\n",
      "\n",
      "You need to take food coupon in the ground floor itself.\n",
      "it was 160 rs.\n",
      "\n",
      "Taste wise it was good.\n",
      "Service was slow.\n",
      "Nothing exciting/different in the menu.\n",
      "Whatever they serve its good.\n",
      "Worth for money.\n",
      "Excellent Ambience with delicious meals with 10-15 variety types. Worth paying for money and you can dine out if you are with more friends/relatives in home.\n",
      "Very good restaurant in neighbourhood. Buffet system is properly arranged. Variety of dishes along with garba dance and puppet show. Good spread of desserts. Live paratha / Kulcha making\n",
      "Great service, overwhelming experience.\n",
      "\n",
      "One of its kind experience. Grand village offers you some very desi food options.\n",
      "\n",
      "Jaljeera, buttermilk, chat papdi, bhajiya, dosa, pav bhaji, noodles, and so many curries kulcha, roti, and garama garam Jalebies, gulab jamuns.\n",
      "\n",
      "Beautiful ambience of village. People serving with smiles and with full heart !!\n",
      "\n",
      "So here goes my overall ratings :\n",
      "Food : 4/5\n",
      "Ambience : 3.5/5\n",
      "Service : 4/5\n",
      "Pocket friendly : 4/5\n",
      "Food 3/5\n",
      "Ambience 3/5\n",
      "Service 3/5\n",
      "\n",
      "Had been here for family lunch. This place serves buffets too. We ordered soups, babycorn starters, butter naan, kadai panner, veg kohlapuri, pease pulav. Food was good. But the service is too slow. They will make you wait for 20 mins to get the order. This place is apt for family hangout.\n",
      "\n",
      "Cheers.\n",
      "Bakasuras Paradise!\n",
      "\n",
      "The only place that can keep the bakasuras belly happy!\n",
      "My 6th visit, and my 5th different onesta visit!\n",
      "From RR nagar, JP Nagar, Basavanagudi, Koramangala bakasura ended up at an onesta in Banashankari as well!\n",
      "Every visit , it's the unlimited meal that I have had. But, but, but there is a change that's happening. From unlimited pizza, unlimited dessert and a beverage (mocktails and everything) to unlimited pizza, one dessert and one aerated beverage (coke/Pepsi/fanta) , I have been through all! And yet, it never disappoints!\n",
      "The pizzas here are just fab and you can hardly eat like 4-5 pizzas in one sitting (bakasura can.. can you? Yes you can)\n",
      "Coming to the staff, they are great.\n",
      "Coming to the quality, it's great.\n",
      "\n",
      "To finish!\n",
      "Be like onesta!\n",
      "\n",
      "It's Bakasura Recommended\n",
      "Food- 10/10\n",
      "Ambience- 10/10\n",
      "Staff- 10/10\n",
      "Value for money- 25/10\n",
      "\n",
      "Onesta Love!\n",
      "Food : 4/5\n",
      "Service: 10/5\n",
      "So let's get over the food and the ambience first. Restaurant is big, with high roof, give a sense of space, well lit. Food is great, not mind blowing. We took the unlimited menu, and loved the bacon pizza most. Rest of the pizza was good enough. Among the deserts, the walnut tart was superb, but i didn't like the peanut-butter mousse at all.\n",
      "\n",
      "But, in spite of all that, the reason for the 5-star rating is the service we got. We were served by Mr.Nanda, who made us feel absolutely special. He didn't have to. We were a small party of just two people, we weren't ordering off the main menu, and the restaurant discourages tips. In spite of all that, he was extremely attentive (without being intrusive), engaging and helpful. I have been to quite some places, from roadside ones to five-star hotels, rarely have the service been so heart warmingly good. I hope he goes onto much much greater things in life, because he is absolutely brilliant at his work.\n",
      "Ambiance - 4/5\n",
      "Service - 4/5\n",
      "Food - 4/5\n",
      "\n",
      "Great pizza, served hot and made to order. They take note of what crusts you want for your pizza and I had the thin crust, so I could eat more, and the crust was made amazing also so was the pizza.\n",
      "The service is really good and the place is clean also. All in all wonderful place and another great restaurant part of the franchise.\n",
      "Food : 4/5\n",
      "Service: 10/5\n",
      "So let's get over the food and the ambience first. Restaurant is big, with high roof, give a sense of space, well lit. Food is great, not mind blowing. We took the unlimited menu, and loved the bacon pizza most. Rest of the pizza was good enough. Among the deserts, the walnut tart was superb, but i didn't like the peanut-butter mousse at all.\n",
      "\n",
      "But, in spite of all that, the reason for the 5-star rating is the service we got. We were served by Mr.Nanda, who made us feel absolutely special. He didn't have to. We were a small party of just two people, we weren't ordering off the main menu, and the restaurant discourages tips. In spite of all that, he was extremely attentive (without being intrusive), engaging and helpful. I have been to quite some places, from roadside ones to five-star hotels, rarely have the service been so heart warmingly good. I hope he goes onto much much greater things in life, because he is absolutely brilliant at his work.\n",
      "Ambiance - 4/5\n",
      "Service - 4/5\n",
      "Food - 4/5\n",
      "\n",
      "Great pizza, served hot and made to order. They take note of what crusts you want for your pizza and I had the thin crust, so I could eat more, and the crust was made amazing also so was the pizza.\n",
      "The service is really good and the place is clean also. All in all wonderful place and another great restaurant part of the franchise.\n",
      "Food : 4/5\n",
      "Service: 10/5\n",
      "So let's get over the food and the ambience first. Restaurant is big, with high roof, give a sense of space, well lit. Food is great, not mind blowing. We took the unlimited menu, and loved the bacon pizza most. Rest of the pizza was good enough. Among the deserts, the walnut tart was superb, but i didn't like the peanut-butter mousse at all.\n",
      "\n",
      "But, in spite of all that, the reason for the 5-star rating is the service we got. We were served by Mr.Nanda, who made us feel absolutely special. He didn't have to. We were a small party of just two people, we weren't ordering off the main menu, and the restaurant discourages tips. In spite of all that, he was extremely attentive (without being intrusive), engaging and helpful. I have been to quite some places, from roadside ones to five-star hotels, rarely have the service been so heart warmingly good. I hope he goes onto much much greater things in life, because he is absolutely brilliant at his work.\n",
      "Ambiance - 4/5\n",
      "Service - 4/5\n",
      "Food - 4/5\n",
      "\n",
      "Great pizza, served hot and made to order. They take note of what crusts you want for your pizza and I had the thin crust, so I could eat more, and the crust was made amazing also so was the pizza.\n",
      "The service is really good and the place is clean also. All in all wonderful place and another great restaurant part of the franchise.\n",
      "Food : 4/5\n",
      "Service: 10/5\n",
      "So let's get over the food and the ambience first. Restaurant is big, with high roof, give a sense of space, well lit. Food is great, not mind blowing. We took the unlimited menu, and loved the bacon pizza most. Rest of the pizza was good enough. Among the deserts, the walnut tart was superb, but i didn't like the peanut-butter mousse at all.\n",
      "\n",
      "But, in spite of all that, the reason for the 5-star rating is the service we got. We were served by Mr.Nanda, who made us feel absolutely special. He didn't have to. We were a small party of just two people, we weren't ordering off the main menu, and the restaurant discourages tips. In spite of all that, he was extremely attentive (without being intrusive), engaging and helpful. I have been to quite some places, from roadside ones to five-star hotels, rarely have the service been so heart warmingly good. I hope he goes onto much much greater things in life, because he is absolutely brilliant at his work.\n",
      "Ambiance - 4/5\n",
      "Service - 4/5\n",
      "Food - 4/5\n",
      "\n",
      "Great pizza, served hot and made to order. They take note of what crusts you want for your pizza and I had the thin crust, so I could eat more, and the crust was made amazing also so was the pizza.\n",
      "The service is really good and the place is clean also. All in all wonderful place and another great restaurant part of the franchise.\n",
      "Food : 4/5\n",
      "Service: 10/5\n",
      "So let's get over the food and the ambience first. Restaurant is big, with high roof, give a sense of space, well lit. Food is great, not mind blowing. We took the unlimited menu, and loved the bacon pizza most. Rest of the pizza was good enough. Among the deserts, the walnut tart was superb, but i didn't like the peanut-butter mousse at all.\n",
      "\n",
      "But, in spite of all that, the reason for the 5-star rating is the service we got. We were served by Mr.Nanda, who made us feel absolutely special. He didn't have to. We were a small party of just two people, we weren't ordering off the main menu, and the restaurant discourages tips. In spite of all that, he was extremely attentive (without being intrusive), engaging and helpful. I have been to quite some places, from roadside ones to five-star hotels, rarely have the service been so heart warmingly good. I hope he goes onto much much greater things in life, because he is absolutely brilliant at his work.\n",
      "Ambiance - 4/5\n",
      "Service - 4/5\n",
      "Food - 4/5\n",
      "\n",
      "Great pizza, served hot and made to order. They take note of what crusts you want for your pizza and I had the thin crust, so I could eat more, and the crust was made amazing also so was the pizza.\n",
      "The service is really good and the place is clean also. All in all wonderful place and another great restaurant part of the franchise.\n",
      "Food : 4/5\n",
      "Service: 10/5\n",
      "So let's get over the food and the ambience first. Restaurant is big, with high roof, give a sense of space, well lit. Food is great, not mind blowing. We took the unlimited menu, and loved the bacon pizza most. Rest of the pizza was good enough. Among the deserts, the walnut tart was superb, but i didn't like the peanut-butter mousse at all.\n",
      "\n",
      "But, in spite of all that, the reason for the 5-star rating is the service we got. We were served by Mr.Nanda, who made us feel absolutely special. He didn't have to. We were a small party of just two people, we weren't ordering off the main menu, and the restaurant discourages tips. In spite of all that, he was extremely attentive (without being intrusive), engaging and helpful. I have been to quite some places, from roadside ones to five-star hotels, rarely have the service been so heart warmingly good. I hope he goes onto much much greater things in life, because he is absolutely brilliant at his work.\n",
      "Ambiance - 4/5\n",
      "Service - 4/5\n",
      "Food - 4/5\n",
      "\n",
      "Great pizza, served hot and made to order. They take note of what crusts you want for your pizza and I had the thin crust, so I could eat more, and the crust was made amazing also so was the pizza.\n",
      "The service is really good and the place is clean also. All in all wonderful place and another great restaurant part of the franchise.\n",
      "Food quality 4.5/5\n",
      "Hospitality 4/5\n",
      "Management response 4.5/5\n",
      "Cleanliness 4.5/5\n",
      "\n",
      "Ordered\n",
      "1) Assorted Bruschetta - It included Tomato Delight, Herbed Mushroom and Broccoli and cheese Bruschetta.\n",
      "\n",
      "2) Mexican Veg Delight pizza - It was topped with some Bell peppers, onion and some Cherry Tomato.\n",
      "\n",
      "3) Farmhouse Special- Topped with Baby corn, Bell pepper and mushroom\n",
      "\n",
      "4)Virgin Mojitos - Mint, Lime and sprit were main ingredients.\n",
      "5) Kiwi & Basil Fizz - Kiwi syrup, Basil leaves and sprit.\n",
      "\n",
      "6)Caramel Walnut Tart\n",
      "7) Chilli chocolate tart\n",
      "8) Baked Cherry Cheesecake\n",
      "9)Penne Al Pesto\n",
      "I had been to this place with one of my friends, it's a very small place but decent. And nice place to hangout.\n",
      "Food-3.5/5\n",
      "Ambience-4/5\n",
      "Value for money 3.5/5\n",
      "Went out to try their burgers and they were pretty good. The ambience was that of a rustic pub and the people are nice. The service is pretty slow.\n",
      "Food - 3.5/5\n",
      "Ambience - 4/5\n",
      "Service - 3.5/5\n"
     ]
    }
   ],
   "source": [
    "docs_with_ratings = []\n",
    "for doc in ratings_df['doc'][:150]:\n",
    "    if '/' in doc:\n",
    "        print(doc)\n",
    "        docs_with_ratings.append(doc)"
   ]
  },
  {
   "cell_type": "code",
   "execution_count": 17,
   "id": "9904f7fe",
   "metadata": {},
   "outputs": [
    {
     "name": "stdout",
     "output_type": "stream",
     "text": [
      "26\n"
     ]
    }
   ],
   "source": [
    "print(len(docs_with_ratings))"
   ]
  },
  {
   "cell_type": "markdown",
   "id": "733a03e0",
   "metadata": {},
   "source": [
    "We will use Regex to find and replace all the occurences of ratings.\n",
    "Let's take a look at all the parts of documents that matches the pattern [0-9.]*[0-9]/[0-9]*[0-9], which correspond to any rating that has double digits (e.g. 10/10), single digits (5/5) or single digits with a fraction (e.g. 9.5/10 or 3.5/5)."
   ]
  },
  {
   "cell_type": "code",
   "execution_count": 18,
   "id": "7f19e652",
   "metadata": {},
   "outputs": [
    {
     "name": "stdout",
     "output_type": "stream",
     "text": [
      "['5/5', '5/5', '5/5', '5/5']\n",
      "['4/5', '3/5', '4/5', '4/5']\n",
      "['8/10', '8/10', '8/10']\n",
      "['6/10', '7/10', '8/10', '7.5/10']\n",
      "[]\n",
      "[]\n",
      "[]\n",
      "[]\n",
      "['4/5', '3.5/5', '4/5', '4/5']\n",
      "['3/5', '3/5', '3/5']\n",
      "['10/10', '10/10', '10/10', '25/10']\n",
      "['4/5', '10/5']\n",
      "['4/5', '4/5', '4/5']\n",
      "['4/5', '10/5']\n",
      "['4/5', '4/5', '4/5']\n",
      "['4/5', '10/5']\n",
      "['4/5', '4/5', '4/5']\n",
      "['4/5', '10/5']\n",
      "['4/5', '4/5', '4/5']\n",
      "['4/5', '10/5']\n",
      "['4/5', '4/5', '4/5']\n",
      "['4/5', '10/5']\n",
      "['4/5', '4/5', '4/5']\n",
      "['4.5/5', '4/5', '4.5/5', '4.5/5']\n",
      "['3.5/5', '4/5', '3.5/5']\n",
      "['3.5/5', '4/5', '3.5/5']\n"
     ]
    }
   ],
   "source": [
    "for docs in docs_with_ratings:\n",
    "    x = re.findall('[0-9.]*[0-9]/[0-9]*[0-9]', docs)\n",
    "    print(x)"
   ]
  },
  {
   "cell_type": "markdown",
   "id": "f85c217b",
   "metadata": {},
   "source": [
    "We will replace them with the word \"score\", since we do not want the model to overfit on ratings that are already given in the comments."
   ]
  },
  {
   "cell_type": "code",
   "execution_count": 19,
   "id": "a73f3a70",
   "metadata": {},
   "outputs": [
    {
     "name": "stdout",
     "output_type": "stream",
     "text": [
      "ORIGINAL:\n",
      "Great food and pleasant ambience. Expensive but Coll place to chill and relax......\n",
      "\n",
      "Service is really very very good and friendly staff...\n",
      "\n",
      "Food : 5/5\n",
      "Service : 5/5\n",
      "Ambience :5/5\n",
      "Overall :5/5\n",
      "\n",
      "SUBBED:\n",
      "Great food and pleasant ambience. Expensive but Coll place to chill and relax......\n",
      "\n",
      "Service is really very very good and friendly staff...\n",
      "\n",
      "Food : score\n",
      "Service : score\n",
      "Ambience :score\n",
      "Overall :score\n"
     ]
    }
   ],
   "source": [
    "doc = docs_with_ratings[0]\n",
    "subbed_doc = re.sub('[0-9.]*[0-9]/[0-9]*[0-9]', 'score', doc)\n",
    "print(\"ORIGINAL:\")\n",
    "print(doc)\n",
    "print(\"\\nSUBBED:\")\n",
    "print(subbed_doc)"
   ]
  },
  {
   "cell_type": "code",
   "execution_count": 20,
   "id": "e3cbfbc3",
   "metadata": {},
   "outputs": [
    {
     "data": {
      "text/html": [
       "<div>\n",
       "<style scoped>\n",
       "    .dataframe tbody tr th:only-of-type {\n",
       "        vertical-align: middle;\n",
       "    }\n",
       "\n",
       "    .dataframe tbody tr th {\n",
       "        vertical-align: top;\n",
       "    }\n",
       "\n",
       "    .dataframe thead th {\n",
       "        text-align: right;\n",
       "    }\n",
       "</style>\n",
       "<table border=\"1\" class=\"dataframe\">\n",
       "  <thead>\n",
       "    <tr style=\"text-align: right;\">\n",
       "      <th></th>\n",
       "      <th>score</th>\n",
       "      <th>doc</th>\n",
       "    </tr>\n",
       "  </thead>\n",
       "  <tbody>\n",
       "    <tr>\n",
       "      <th>0</th>\n",
       "      <td>4.0</td>\n",
       "      <td>A beautiful place to dine in.The interiors tak...</td>\n",
       "    </tr>\n",
       "    <tr>\n",
       "      <th>1</th>\n",
       "      <td>4.0</td>\n",
       "      <td>I was here for dinner with my family on a week...</td>\n",
       "    </tr>\n",
       "    <tr>\n",
       "      <th>2</th>\n",
       "      <td>2.0</td>\n",
       "      <td>Its a restaurant near to Banashankari BDA. Me ...</td>\n",
       "    </tr>\n",
       "    <tr>\n",
       "      <th>3</th>\n",
       "      <td>4.0</td>\n",
       "      <td>We went here on a weekend and one of us had th...</td>\n",
       "    </tr>\n",
       "    <tr>\n",
       "      <th>4</th>\n",
       "      <td>5.0</td>\n",
       "      <td>The best thing about the place is itÃÃÃÃ...</td>\n",
       "    </tr>\n",
       "  </tbody>\n",
       "</table>\n",
       "</div>"
      ],
      "text/plain": [
       "   score                                                doc\n",
       "0    4.0  A beautiful place to dine in.The interiors tak...\n",
       "1    4.0  I was here for dinner with my family on a week...\n",
       "2    2.0  Its a restaurant near to Banashankari BDA. Me ...\n",
       "3    4.0  We went here on a weekend and one of us had th...\n",
       "4    5.0  The best thing about the place is itÃÃÃÃ..."
      ]
     },
     "execution_count": 20,
     "metadata": {},
     "output_type": "execute_result"
    }
   ],
   "source": [
    "ratings_df.head()"
   ]
  },
  {
   "cell_type": "markdown",
   "id": "9933c120",
   "metadata": {},
   "source": [
    "Text Processing/ Mining"
   ]
  },
  {
   "cell_type": "code",
   "execution_count": 21,
   "id": "5a8d4c62",
   "metadata": {},
   "outputs": [],
   "source": [
    "## Lower Casing\n",
    "ratings_df['review'] = ratings_df['doc'].str.lower()"
   ]
  },
  {
   "cell_type": "code",
   "execution_count": 22,
   "id": "e5862e77",
   "metadata": {},
   "outputs": [],
   "source": [
    "import string\n",
    "PUNCT_TO_REMOVE = string.punctuation\n",
    "def remove_punctuation(text):\n",
    "    \"\"\"custom function to remove the punctuation\"\"\"\n",
    "    return text.translate(str.maketrans('', '', PUNCT_TO_REMOVE))\n",
    "\n",
    "ratings_df['review'] = ratings_df['review'].apply(lambda text: remove_punctuation(text))"
   ]
  },
  {
   "cell_type": "code",
   "execution_count": 23,
   "id": "7e42cb78",
   "metadata": {},
   "outputs": [],
   "source": [
    "ratings_df=ratings_df.drop(['doc'],axis=1) "
   ]
  },
  {
   "cell_type": "code",
   "execution_count": 24,
   "id": "b1d984cb",
   "metadata": {},
   "outputs": [
    {
     "data": {
      "text/html": [
       "<div>\n",
       "<style scoped>\n",
       "    .dataframe tbody tr th:only-of-type {\n",
       "        vertical-align: middle;\n",
       "    }\n",
       "\n",
       "    .dataframe tbody tr th {\n",
       "        vertical-align: top;\n",
       "    }\n",
       "\n",
       "    .dataframe thead th {\n",
       "        text-align: right;\n",
       "    }\n",
       "</style>\n",
       "<table border=\"1\" class=\"dataframe\">\n",
       "  <thead>\n",
       "    <tr style=\"text-align: right;\">\n",
       "      <th></th>\n",
       "      <th>score</th>\n",
       "      <th>review</th>\n",
       "    </tr>\n",
       "  </thead>\n",
       "  <tbody>\n",
       "    <tr>\n",
       "      <th>881584</th>\n",
       "      <td>4.0</td>\n",
       "      <td>truffles place best burgers bangalore popular ...</td>\n",
       "    </tr>\n",
       "  </tbody>\n",
       "</table>\n",
       "</div>"
      ],
      "text/plain": [
       "        score                                             review\n",
       "881584    4.0  truffles place best burgers bangalore popular ..."
      ]
     },
     "execution_count": 24,
     "metadata": {},
     "output_type": "execute_result"
    }
   ],
   "source": [
    "## Removal of Stopwords\n",
    "from nltk.corpus import stopwords\n",
    "STOPWORDS = set(stopwords.words('english'))\n",
    "def remove_stopwords(text):\n",
    "    \"\"\"custom function to remove the stopwords\"\"\"\n",
    "    return \" \".join([word for word in str(text).split() if word not in STOPWORDS])\n",
    "\n",
    "ratings_df['review'] = ratings_df['review'].apply(lambda text: remove_stopwords(text))\n",
    "ratings_df.sample()"
   ]
  },
  {
   "cell_type": "code",
   "execution_count": 25,
   "id": "714e5107",
   "metadata": {},
   "outputs": [
    {
     "data": {
      "text/html": [
       "<div>\n",
       "<style scoped>\n",
       "    .dataframe tbody tr th:only-of-type {\n",
       "        vertical-align: middle;\n",
       "    }\n",
       "\n",
       "    .dataframe tbody tr th {\n",
       "        vertical-align: top;\n",
       "    }\n",
       "\n",
       "    .dataframe thead th {\n",
       "        text-align: right;\n",
       "    }\n",
       "</style>\n",
       "<table border=\"1\" class=\"dataframe\">\n",
       "  <thead>\n",
       "    <tr style=\"text-align: right;\">\n",
       "      <th></th>\n",
       "      <th>score</th>\n",
       "      <th>review</th>\n",
       "    </tr>\n",
       "  </thead>\n",
       "  <tbody>\n",
       "    <tr>\n",
       "      <th>306148</th>\n",
       "      <td>5.0</td>\n",
       "      <td>want quick business meet lounge svenska best p...</td>\n",
       "    </tr>\n",
       "    <tr>\n",
       "      <th>378789</th>\n",
       "      <td>4.0</td>\n",
       "      <td>small place location good delicious sandwiches...</td>\n",
       "    </tr>\n",
       "    <tr>\n",
       "      <th>819749</th>\n",
       "      <td>4.0</td>\n",
       "      <td>zomato two plus two drink offer good ambience ...</td>\n",
       "    </tr>\n",
       "  </tbody>\n",
       "</table>\n",
       "</div>"
      ],
      "text/plain": [
       "        score                                             review\n",
       "306148    5.0  want quick business meet lounge svenska best p...\n",
       "378789    4.0  small place location good delicious sandwiches...\n",
       "819749    4.0  zomato two plus two drink offer good ambience ..."
      ]
     },
     "execution_count": 25,
     "metadata": {},
     "output_type": "execute_result"
    }
   ],
   "source": [
    "## Removal of urls\n",
    "def remove_urls(text):\n",
    "    url_pattern = re.compile(r'https?://\\S+|www\\.\\S+')\n",
    "    return url_pattern.sub(r'', text)\n",
    "\n",
    "ratings_df['review'] = ratings_df['review'].apply(lambda text: remove_urls(text))\n",
    "ratings_df.sample(3)"
   ]
  },
  {
   "cell_type": "code",
   "execution_count": 26,
   "id": "e8add446",
   "metadata": {},
   "outputs": [
    {
     "data": {
      "text/plain": [
       "4.0    397337\n",
       "5.0    372425\n",
       "3.0    178102\n",
       "1.0    149367\n",
       "2.0     65870\n",
       "3.5     55691\n",
       "4.5     50292\n",
       "2.5     17432\n",
       "1.5      9333\n",
       "Name: score, dtype: int64"
      ]
     },
     "execution_count": 26,
     "metadata": {},
     "output_type": "execute_result"
    }
   ],
   "source": [
    "ratings_df['score'].astype('category').value_counts()"
   ]
  },
  {
   "cell_type": "markdown",
   "id": "82d69ca6",
   "metadata": {},
   "source": [
    "Clearly this is categorical data, with some heavy class imbalance. This is something to address if you want to improve performance. We will go ahead and encode that into binary labels:"
   ]
  },
  {
   "cell_type": "code",
   "execution_count": 27,
   "id": "6fa53a9f",
   "metadata": {},
   "outputs": [
    {
     "data": {
      "text/html": [
       "<div>\n",
       "<style scoped>\n",
       "    .dataframe tbody tr th:only-of-type {\n",
       "        vertical-align: middle;\n",
       "    }\n",
       "\n",
       "    .dataframe tbody tr th {\n",
       "        vertical-align: top;\n",
       "    }\n",
       "\n",
       "    .dataframe thead th {\n",
       "        text-align: right;\n",
       "    }\n",
       "</style>\n",
       "<table border=\"1\" class=\"dataframe\">\n",
       "  <thead>\n",
       "    <tr style=\"text-align: right;\">\n",
       "      <th></th>\n",
       "      <th>1.0</th>\n",
       "      <th>1.5</th>\n",
       "      <th>2.0</th>\n",
       "      <th>2.5</th>\n",
       "      <th>3.0</th>\n",
       "      <th>3.5</th>\n",
       "      <th>4.0</th>\n",
       "      <th>4.5</th>\n",
       "      <th>5.0</th>\n",
       "    </tr>\n",
       "  </thead>\n",
       "  <tbody>\n",
       "    <tr>\n",
       "      <th>0</th>\n",
       "      <td>0</td>\n",
       "      <td>0</td>\n",
       "      <td>0</td>\n",
       "      <td>0</td>\n",
       "      <td>0</td>\n",
       "      <td>0</td>\n",
       "      <td>1</td>\n",
       "      <td>0</td>\n",
       "      <td>0</td>\n",
       "    </tr>\n",
       "    <tr>\n",
       "      <th>1</th>\n",
       "      <td>0</td>\n",
       "      <td>0</td>\n",
       "      <td>0</td>\n",
       "      <td>0</td>\n",
       "      <td>0</td>\n",
       "      <td>0</td>\n",
       "      <td>1</td>\n",
       "      <td>0</td>\n",
       "      <td>0</td>\n",
       "    </tr>\n",
       "    <tr>\n",
       "      <th>2</th>\n",
       "      <td>0</td>\n",
       "      <td>0</td>\n",
       "      <td>1</td>\n",
       "      <td>0</td>\n",
       "      <td>0</td>\n",
       "      <td>0</td>\n",
       "      <td>0</td>\n",
       "      <td>0</td>\n",
       "      <td>0</td>\n",
       "    </tr>\n",
       "    <tr>\n",
       "      <th>3</th>\n",
       "      <td>0</td>\n",
       "      <td>0</td>\n",
       "      <td>0</td>\n",
       "      <td>0</td>\n",
       "      <td>0</td>\n",
       "      <td>0</td>\n",
       "      <td>1</td>\n",
       "      <td>0</td>\n",
       "      <td>0</td>\n",
       "    </tr>\n",
       "    <tr>\n",
       "      <th>4</th>\n",
       "      <td>0</td>\n",
       "      <td>0</td>\n",
       "      <td>0</td>\n",
       "      <td>0</td>\n",
       "      <td>0</td>\n",
       "      <td>0</td>\n",
       "      <td>0</td>\n",
       "      <td>0</td>\n",
       "      <td>1</td>\n",
       "    </tr>\n",
       "  </tbody>\n",
       "</table>\n",
       "</div>"
      ],
      "text/plain": [
       "   1.0  1.5  2.0  2.5  3.0  3.5  4.0  4.5  5.0\n",
       "0    0    0    0    0    0    0    1    0    0\n",
       "1    0    0    0    0    0    0    1    0    0\n",
       "2    0    0    1    0    0    0    0    0    0\n",
       "3    0    0    0    0    0    0    1    0    0\n",
       "4    0    0    0    0    0    0    0    0    1"
      ]
     },
     "execution_count": 27,
     "metadata": {},
     "output_type": "execute_result"
    }
   ],
   "source": [
    "dummies = pd.get_dummies(ratings_df['score'])\n",
    "dummies.head()"
   ]
  },
  {
   "cell_type": "markdown",
   "id": "6e331bef",
   "metadata": {},
   "source": [
    "## Train Test Split\n",
    "\n",
    "Finally, we split the data into train and test sets; the latter will be used to evaluate our model."
   ]
  },
  {
   "cell_type": "code",
   "execution_count": 28,
   "id": "fc106441",
   "metadata": {},
   "outputs": [],
   "source": [
    "x_train, x_test, y_train, y_test = train_test_split(\n",
    "    ratings_df['review'], \n",
    "    dummies, \n",
    "    test_size=0.1, random_state=19\n",
    ")"
   ]
  },
  {
   "cell_type": "code",
   "execution_count": 29,
   "id": "5026442b",
   "metadata": {},
   "outputs": [
    {
     "name": "stdout",
     "output_type": "stream",
     "text": [
      "Text preprocessing completed. Proceeding to vectorization...\n",
      "Vectorization completed. Initializing and training the model...\n",
      "Model training completed. Predicting on test data...\n",
      "Prediction completed. Calculating R2 values...\n",
      "Overall R2: 0.6472186404781958\n",
      "Individual R2 for each class: [0.76287432 0.64996435 0.53842419 0.62102849 0.62858125 0.63423046\n",
      " 0.64998104 0.62715187 0.71273181]\n"
     ]
    }
   ],
   "source": [
    "from sklearn.feature_extraction.text import TfidfVectorizer\n",
    "from sklearn.linear_model import LinearRegression\n",
    "from sklearn.metrics import r2_score\n",
    "from sklearn.model_selection import train_test_split\n",
    "import pandas as pd\n",
    "import numpy as np\n",
    "\n",
    "# Assuming ratings_df and other necessary variables are defined\n",
    "\n",
    "print(\"Text preprocessing completed. Proceeding to vectorization...\")\n",
    "\n",
    "# Vectorize the text data\n",
    "vectorizer = TfidfVectorizer()\n",
    "x_train_vect = vectorizer.fit_transform(x_train)\n",
    "x_test_vect = vectorizer.transform(x_test)\n",
    "\n",
    "print(\"Vectorization completed. Initializing and training the model...\")\n",
    "\n",
    "# Initialize and train the model\n",
    "model = LinearRegression()\n",
    "model.fit(x_train_vect, y_train)\n",
    "\n",
    "print(\"Model training completed. Predicting on test data...\")\n",
    "\n",
    "# Predict on the test data\n",
    "y_pred = model.predict(x_test_vect)\n",
    "\n",
    "print(\"Prediction completed. Calculating R2 values...\")\n",
    "\n",
    "# Calculate R2 values\n",
    "overall_r2 = r2_score(y_test, y_pred)\n",
    "\n",
    "# Individual R2 values for each class\n",
    "individual_r2 = r2_score(y_test, y_pred, multioutput='raw_values')\n",
    "\n",
    "print(\"Overall R2:\", overall_r2)\n",
    "print(\"Individual R2 for each class:\", individual_r2)"
   ]
  },
  {
   "cell_type": "code",
   "execution_count": 33,
   "id": "6a9e5bfa",
   "metadata": {},
   "outputs": [
    {
     "name": "stdout",
     "output_type": "stream",
     "text": [
      "Epoch 1/20\n",
      "\u001b[1m32802/32802\u001b[0m \u001b[32m━━━━━━━━━━━━━━━━━━━━\u001b[0m\u001b[37m\u001b[0m \u001b[1m398s\u001b[0m 12ms/step - loss: 0.0372 - mean_squared_error: 0.0372 - val_loss: 0.0150 - val_mean_squared_error: 0.0150\n",
      "Epoch 2/20\n",
      "\u001b[1m32802/32802\u001b[0m \u001b[32m━━━━━━━━━━━━━━━━━━━━\u001b[0m\u001b[37m\u001b[0m \u001b[1m403s\u001b[0m 12ms/step - loss: 0.0122 - mean_squared_error: 0.0122 - val_loss: 0.0113 - val_mean_squared_error: 0.0113\n",
      "Epoch 3/20\n",
      "\u001b[1m32802/32802\u001b[0m \u001b[32m━━━━━━━━━━━━━━━━━━━━\u001b[0m\u001b[37m\u001b[0m \u001b[1m406s\u001b[0m 12ms/step - loss: 0.0093 - mean_squared_error: 0.0093 - val_loss: 0.0101 - val_mean_squared_error: 0.0101\n",
      "Epoch 4/20\n",
      "\u001b[1m32802/32802\u001b[0m \u001b[32m━━━━━━━━━━━━━━━━━━━━\u001b[0m\u001b[37m\u001b[0m \u001b[1m407s\u001b[0m 12ms/step - loss: 0.0080 - mean_squared_error: 0.0080 - val_loss: 0.0091 - val_mean_squared_error: 0.0091\n",
      "Epoch 5/20\n",
      "\u001b[1m32802/32802\u001b[0m \u001b[32m━━━━━━━━━━━━━━━━━━━━\u001b[0m\u001b[37m\u001b[0m \u001b[1m404s\u001b[0m 12ms/step - loss: 0.0074 - mean_squared_error: 0.0074 - val_loss: 0.0086 - val_mean_squared_error: 0.0086\n",
      "Epoch 6/20\n",
      "\u001b[1m32802/32802\u001b[0m \u001b[32m━━━━━━━━━━━━━━━━━━━━\u001b[0m\u001b[37m\u001b[0m \u001b[1m1046s\u001b[0m 32ms/step - loss: 0.0069 - mean_squared_error: 0.0069 - val_loss: 0.0083 - val_mean_squared_error: 0.0083\n",
      "Epoch 7/20\n",
      "\u001b[1m32802/32802\u001b[0m \u001b[32m━━━━━━━━━━━━━━━━━━━━\u001b[0m\u001b[37m\u001b[0m \u001b[1m1386s\u001b[0m 42ms/step - loss: 0.0066 - mean_squared_error: 0.0066 - val_loss: 0.0080 - val_mean_squared_error: 0.0080\n",
      "Epoch 8/20\n",
      "\u001b[1m32802/32802\u001b[0m \u001b[32m━━━━━━━━━━━━━━━━━━━━\u001b[0m\u001b[37m\u001b[0m \u001b[1m417s\u001b[0m 13ms/step - loss: 0.0063 - mean_squared_error: 0.0063 - val_loss: 0.0078 - val_mean_squared_error: 0.0078\n",
      "Epoch 9/20\n",
      "\u001b[1m32802/32802\u001b[0m \u001b[32m━━━━━━━━━━━━━━━━━━━━\u001b[0m\u001b[37m\u001b[0m \u001b[1m421s\u001b[0m 13ms/step - loss: 0.0062 - mean_squared_error: 0.0062 - val_loss: 0.0076 - val_mean_squared_error: 0.0076\n",
      "Epoch 10/20\n",
      "\u001b[1m32802/32802\u001b[0m \u001b[32m━━━━━━━━━━━━━━━━━━━━\u001b[0m\u001b[37m\u001b[0m \u001b[1m424s\u001b[0m 13ms/step - loss: 0.0060 - mean_squared_error: 0.0060 - val_loss: 0.0074 - val_mean_squared_error: 0.0074\n",
      "Epoch 11/20\n",
      "\u001b[1m32802/32802\u001b[0m \u001b[32m━━━━━━━━━━━━━━━━━━━━\u001b[0m\u001b[37m\u001b[0m \u001b[1m421s\u001b[0m 13ms/step - loss: 0.0058 - mean_squared_error: 0.0058 - val_loss: 0.0073 - val_mean_squared_error: 0.0073\n",
      "Epoch 12/20\n",
      "\u001b[1m32802/32802\u001b[0m \u001b[32m━━━━━━━━━━━━━━━━━━━━\u001b[0m\u001b[37m\u001b[0m \u001b[1m425s\u001b[0m 13ms/step - loss: 0.0057 - mean_squared_error: 0.0057 - val_loss: 0.0072 - val_mean_squared_error: 0.0072\n",
      "Epoch 13/20\n",
      "\u001b[1m32802/32802\u001b[0m \u001b[32m━━━━━━━━━━━━━━━━━━━━\u001b[0m\u001b[37m\u001b[0m \u001b[1m423s\u001b[0m 13ms/step - loss: 0.0055 - mean_squared_error: 0.0055 - val_loss: 0.0071 - val_mean_squared_error: 0.0071\n",
      "Epoch 14/20\n",
      "\u001b[1m32802/32802\u001b[0m \u001b[32m━━━━━━━━━━━━━━━━━━━━\u001b[0m\u001b[37m\u001b[0m \u001b[1m2429s\u001b[0m 74ms/step - loss: 0.0054 - mean_squared_error: 0.0054 - val_loss: 0.0070 - val_mean_squared_error: 0.0070\n",
      "Epoch 15/20\n",
      "\u001b[1m32802/32802\u001b[0m \u001b[32m━━━━━━━━━━━━━━━━━━━━\u001b[0m\u001b[37m\u001b[0m \u001b[1m4973s\u001b[0m 152ms/step - loss: 0.0054 - mean_squared_error: 0.0054 - val_loss: 0.0071 - val_mean_squared_error: 0.0071\n",
      "Epoch 16/20\n",
      "\u001b[1m32802/32802\u001b[0m \u001b[32m━━━━━━━━━━━━━━━━━━━━\u001b[0m\u001b[37m\u001b[0m \u001b[1m2243s\u001b[0m 68ms/step - loss: 0.0053 - mean_squared_error: 0.0053 - val_loss: 0.0071 - val_mean_squared_error: 0.0071\n",
      "Epoch 17/20\n",
      "\u001b[1m32802/32802\u001b[0m \u001b[32m━━━━━━━━━━━━━━━━━━━━\u001b[0m\u001b[37m\u001b[0m \u001b[1m395s\u001b[0m 12ms/step - loss: 0.0053 - mean_squared_error: 0.0053 - val_loss: 0.0068 - val_mean_squared_error: 0.0068\n",
      "Epoch 18/20\n",
      "\u001b[1m32802/32802\u001b[0m \u001b[32m━━━━━━━━━━━━━━━━━━━━\u001b[0m\u001b[37m\u001b[0m \u001b[1m431s\u001b[0m 13ms/step - loss: 0.0052 - mean_squared_error: 0.0052 - val_loss: 0.0069 - val_mean_squared_error: 0.0069\n",
      "Epoch 19/20\n",
      "\u001b[1m32802/32802\u001b[0m \u001b[32m━━━━━━━━━━━━━━━━━━━━\u001b[0m\u001b[37m\u001b[0m \u001b[1m1628s\u001b[0m 50ms/step - loss: 0.0052 - mean_squared_error: 0.0052 - val_loss: 0.0069 - val_mean_squared_error: 0.0069\n",
      "Epoch 20/20\n",
      "\u001b[1m32802/32802\u001b[0m \u001b[32m━━━━━━━━━━━━━━━━━━━━\u001b[0m\u001b[37m\u001b[0m \u001b[1m1318s\u001b[0m 40ms/step - loss: 0.0051 - mean_squared_error: 0.0051 - val_loss: 0.0067 - val_mean_squared_error: 0.0067\n"
     ]
    },
    {
     "data": {
      "image/png": "[encoded data removed]",
      "text/plain": [
       "<Figure size 640x480 with 1 Axes>"
      ]
     },
     "metadata": {},
     "output_type": "display_data"
    }
   ],
   "source": [
    "import tensorflow as tf\n",
    "import matplotlib.pyplot as plt\n",
    "\n",
    "# Assuming x_train_vect, y_train, x_test_vect, and y_test are defined\n",
    "\n",
    "# Define the model\n",
    "model = tf.keras.Sequential([\n",
    "    tf.keras.layers.Dense(64, activation='relu', input_shape=(x_train_vect.shape[1],)),\n",
    "    tf.keras.layers.Dense(32, activation='relu'),\n",
    "    tf.keras.layers.Dense(y_train.shape[1], activation='linear')  # Linear activation for regression\n",
    "])\n",
    "\n",
    "# Compile the model\n",
    "model.compile(optimizer='adam',\n",
    "              loss='mean_squared_error',  # Use Mean Squared Error as loss function\n",
    "              metrics=['mean_squared_error'])\n",
    "\n",
    "# Train the model and track the training history\n",
    "history = model.fit(x_train_vect, y_train, epochs=20, batch_size=32, validation_split=0.1)\n",
    "\n",
    "# Plot the loss function\n",
    "plt.plot(history.history['loss'], label='Training Loss')\n",
    "plt.plot(history.history['val_loss'], label='Validation Loss')\n",
    "plt.title('Loss Function Plot')\n",
    "plt.xlabel('Epoch')\n",
    "plt.ylabel('Mean Squared Error')\n",
    "plt.legend()\n",
    "plt.show()"
   ]
  },
  {
   "cell_type": "code",
   "execution_count": 30,
   "id": "5d60d017",
   "metadata": {},
   "outputs": [
    {
     "name": "stdout",
     "output_type": "stream",
     "text": [
      "Overall R2: 0.6472186404781958\n",
      "Individual R2 for each class: [0.76287432 0.64996435 0.53842419 0.62102849 0.62858125 0.63423046\n",
      " 0.64998104 0.62715187 0.71273181]\n"
     ]
    }
   ],
   "source": [
    "# Calculate R2 values\n",
    "overall_r2 = r2_score(y_test, y_pred)\n",
    "\n",
    "# Individual R2 values for each class\n",
    "individual_r2 = r2_score(y_test, y_pred, multioutput='raw_values')\n",
    "\n",
    "print(\"Overall R2:\", overall_r2)\n",
    "print(\"Individual R2 for each class:\", individual_r2)"
   ]
  },
  {
   "cell_type": "code",
   "execution_count": null,
   "id": "2347ff55",
   "metadata": {},
   "outputs": [],
   "source": []
  }
 ],
 "metadata": {
  "kernelspec": {
   "display_name": "Python 3 (ipykernel)",
   "language": "python",
   "name": "python3"
  },
  "language_info": {
   "codemirror_mode": {
    "name": "ipython",
    "version": 3
   },
   "file_extension": ".py",
   "mimetype": "text/x-python",
   "name": "python",
   "nbconvert_exporter": "python",
   "pygments_lexer": "ipython3",
   "version": "3.11.4"
  }
 },
 "nbformat": 4,
 "nbformat_minor": 5
}
